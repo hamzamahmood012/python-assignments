{
 "cells": [
  {
   "cell_type": "code",
   "execution_count": 18,
   "metadata": {},
   "outputs": [
    {
     "name": "stdout",
     "output_type": "stream",
     "text": [
      "enter your percentage %85\n",
      "Grade:A1\n"
     ]
    }
   ],
   "source": [
    "#Method=1\n",
    "per =int(input(\"enter your percentage %\"))\n",
    "if  (per>=90 and per<100):\n",
    "    print(\"A+\")\n",
    "elif(per>=80 and per<90):\n",
    "    print(\"Grade:A1\")\n",
    "elif(per>=70 and per<80):\n",
    "    print(\"Grade:A\")\n",
    "elif(per>=60 and per<70):\n",
    "    print(\"Grade:B\")\n",
    "elif(per>=50 and per<60):\n",
    "    print(\"Grade:C\")\n",
    "elif(per>=40 and per<50):\n",
    "    print(\"GRADE D\")\n",
    "elif(per>=33 and per<40):\n",
    "    print(\"GRADE E\")\n",
    "elif(per<33 and per>0):\n",
    "    print(\"FAIL\")\n",
    "else:\n",
    "    print(\"you have inapproperiate percentage %\")"
   ]
  },
  {
   "cell_type": "code",
   "execution_count": 19,
   "metadata": {},
   "outputs": [
    {
     "name": "stdout",
     "output_type": "stream",
     "text": [
      "enter marks of sub1:110\n",
      "invalid\n",
      "enter marks of sub1:34\n",
      "enter marks of sub2:54\n",
      "Grade:fail\n"
     ]
    }
   ],
   "source": [
    "#Method=2\n",
    "sub1=-1\n",
    "while sub1 not in range(101):\n",
    "    sub1=int(input(\"enter marks of sub1:\"))\n",
    "    if(sub1>100):\n",
    "        print(\"invalid\")\n",
    "sub2=-1\n",
    "while sub2 not in range(101):\n",
    "    sub2=int(input(\"enter marks of sub2:\"))\n",
    "    if(sub2>100):\n",
    "        print(\"invalid\")\n",
    "avg =(sub1+sub2)/2\n",
    "if(avg>=90):\n",
    "    print(\"Grade:A+\")\n",
    "elif(avg>=80 and avg<90):\n",
    "    print(\"Grade:A1\")\n",
    "elif(avg>=70 and avg<80):\n",
    "    print(\"Grade:A\")\n",
    "elif(avg>=60 and avg<70):\n",
    "    print(\"Grade:B\")\n",
    "elif(avg>=50 and avg<60):\n",
    "    print(\"Grade:C\")\n",
    "else:\n",
    "    print(\"Grade:fail\")"
   ]
  },
  {
   "cell_type": "code",
   "execution_count": null,
   "metadata": {},
   "outputs": [],
   "source": []
  }
 ],
 "metadata": {
  "kernelspec": {
   "display_name": "Python 3",
   "language": "python",
   "name": "python3"
  },
  "language_info": {
   "codemirror_mode": {
    "name": "ipython",
    "version": 3
   },
   "file_extension": ".py",
   "mimetype": "text/x-python",
   "name": "python",
   "nbconvert_exporter": "python",
   "pygments_lexer": "ipython3",
   "version": "3.7.4"
  }
 },
 "nbformat": 4,
 "nbformat_minor": 2
}
