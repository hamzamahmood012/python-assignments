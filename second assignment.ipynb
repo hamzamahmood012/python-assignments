{
 "cells": [
  {
   "cell_type": "code",
   "execution_count": 15,
   "metadata": {},
   "outputs": [
    {
     "name": "stdout",
     "output_type": "stream",
     "text": [
      "    MARK SHEET\n",
      "\n",
      "Computer  80\n",
      "English   75\n",
      "Math      89\n",
      "Physics   65\n",
      "Chemistry 88\n",
      "\n",
      "Total obtained Marks: 397\n",
      "\n",
      "Your Percentage:  79.4\n",
      "Your Grade is A\n"
     ]
    }
   ],
   "source": [
    "#Q =1\n",
    "print(\"    MARK SHEET\")\n",
    "subject1 = int(input(\"\\nComputer  \"));\n",
    "subject2 = int(input(\"English   \"));\n",
    "subject3 = int(input(\"Math      \"));\n",
    "subject4 = int(input(\"Physics   \"));\n",
    "subject5 = int(input(\"Chemistry \"));\n",
    "Total_obtained = (subject1 + subject2 + subject3 + subject4 + subject5);\n",
    "print(\"\\nTotal obtained Marks:\", Total_obtained);\n",
    "Percentage = (Total_obtained * 100) / 500\n",
    "print(\"\\nYour Percentage: \",Percentage)\n",
    "if(Percentage>=90 and Percentage<=100):\n",
    "    print(\"Your Grade is A+\")\n",
    "elif(Percentage>=80 and Percentage<90):\n",
    "    print(\"Your Grade is A1\")\n",
    "elif(Percentage>=70 and Percentage<80):\n",
    "    print(\"Your Grade is A\")\n",
    "elif(Percentage>=60 and Percentage<70):\n",
    "    print(\"Your Grade is B\")\n",
    "elif(Percentage>=50 and Percentage<60):\n",
    "    print(\"Your Grade is C\")\n",
    "elif(Percentage>=40 and Percentage<50):\n",
    "    print(\"Your Grade is D\")\n",
    "elif(Percentage>=33 and Percentage<40):\n",
    "    print(\"Your Grade is E\")\n",
    "elif(Percentage<33 and Percentage>0):\n",
    "    print(\"Your Grade is FAIL\")\n",
    "else:\n",
    "    print(\"you have inapproperiate percentage %\")"
   ]
  },
  {
   "cell_type": "code",
   "execution_count": null,
   "metadata": {},
   "outputs": [
    {
     "name": "stdout",
     "output_type": "stream",
     "text": [
      "Enter a number 6\n",
      "Even number\n",
      "Enter a number 9\n",
      "Odd number\n"
     ]
    }
   ],
   "source": [
    "#Q=2\n",
    "z=1\n",
    "while z in range(3):\n",
    "    num=int(input(\"Enter a number \"))\n",
    "    if num%2==0:\n",
    "        print(\"Even number\") \n",
    "    else:\n",
    "        print(\"Odd number\")"
   ]
  },
  {
   "cell_type": "code",
   "execution_count": 2,
   "metadata": {},
   "outputs": [
    {
     "name": "stdout",
     "output_type": "stream",
     "text": [
      "The length of given list is: 9\n"
     ]
    }
   ],
   "source": [
    "#Q=3\n",
    "arr={16,6,22,15,11,10,47,65,24}\n",
    "print(\"The length of given list is:\",len(arr))"
   ]
  },
  {
   "cell_type": "code",
   "execution_count": 1,
   "metadata": {},
   "outputs": [
    {
     "name": "stdout",
     "output_type": "stream",
     "text": [
      "The sum of given list is: 127\n"
     ]
    }
   ],
   "source": [
    "#Q=4\n",
    "arr=[16,6,22,15,11,10,47,65,24]\n",
    "sum=0\n",
    "for i in range(0,len(arr)):\n",
    "    sum+=arr[i]\n",
    "print(\"The sum of given list is:\",sum)"
   ]
  },
  {
   "cell_type": "code",
   "execution_count": 3,
   "metadata": {},
   "outputs": [
    {
     "name": "stdout",
     "output_type": "stream",
     "text": [
      "Largest number in list is: 65\n"
     ]
    }
   ],
   "source": [
    "#Q=5\n",
    "arr=[16,6,22,15,11,10,47,65,24]\n",
    "print(\"Largest number in list is:\",max(arr))"
   ]
  },
  {
   "cell_type": "code",
   "execution_count": 12,
   "metadata": {},
   "outputs": [
    {
     "name": "stdout",
     "output_type": "stream",
     "text": [
      "Number less then 5:\n",
      "1\n",
      "1\n",
      "2\n",
      "3\n",
      "3\n"
     ]
    }
   ],
   "source": [
    "#Q=6\n",
    "arr =[1,1,2,3,3,8,27,34,40]\n",
    "print(\"Number less then 5:\")\n",
    "for i in range(0,len(arr)):\n",
    "    if arr[i]<5:\n",
    "        print(arr[i])"
   ]
  },
  {
   "cell_type": "code",
   "execution_count": null,
   "metadata": {},
   "outputs": [],
   "source": []
  }
 ],
 "metadata": {
  "kernelspec": {
   "display_name": "Python 3",
   "language": "python",
   "name": "python3"
  },
  "language_info": {
   "codemirror_mode": {
    "name": "ipython",
    "version": 3
   },
   "file_extension": ".py",
   "mimetype": "text/x-python",
   "name": "python",
   "nbconvert_exporter": "python",
   "pygments_lexer": "ipython3",
   "version": "3.7.4"
  }
 },
 "nbformat": 4,
 "nbformat_minor": 2
}
